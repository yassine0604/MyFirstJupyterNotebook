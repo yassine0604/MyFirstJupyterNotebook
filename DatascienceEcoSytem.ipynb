{
 "cells": [
  {
   "cell_type": "markdown",
   "id": "5daece4c-16b0-4983-b3f2-4b886ec0ca65",
   "metadata": {},
   "source": [
    "# Data Science Tools and Ecosystem"
   ]
  },
  {
   "cell_type": "markdown",
   "id": "b13849f0-12e4-4687-8683-0de25ca0f746",
   "metadata": {
    "tags": []
   },
   "source": [
    "In this notebook, Data Science Tools and Ecosystem are summarized."
   ]
  },
  {
   "cell_type": "markdown",
   "id": "05a7bd42-5c8a-4be9-b05f-71dda21c364e",
   "metadata": {},
   "source": [
    "**Objectives:**\n",
    "\n",
    "    * data science libraries .\n",
    "    * Data science Languages .\n",
    "    * Calculation with Python  ."
   ]
  },
  {
   "cell_type": "markdown",
   "id": "b828b477-5932-486f-acc5-0663338e4f02",
   "metadata": {},
   "source": [
    "Some of the popular languages that Data Scientists use are: \n",
    "1. Python\n",
    "2. R\n",
    "3. SQL\n",
    "4. Scala"
   ]
  },
  {
   "cell_type": "markdown",
   "id": "51801e2a-9905-4c7e-92a2-c4d9adccc320",
   "metadata": {},
   "source": [
    "Some of the commonly used libraries used by Data Scientists include:\n",
    "1. Pandas\n",
    "2. Numpy\n",
    "3. Scipy"
   ]
  },
  {
   "cell_type": "markdown",
   "id": "b1704744-3501-46d0-bab7-02b821ba8726",
   "metadata": {},
   "source": [
    "Data Science Tools|\n",
    "-------------------|\n",
    "Mysql\n",
    "MongoDB\n",
    "Github"
   ]
  },
  {
   "cell_type": "markdown",
   "id": "d46f19f1-6959-4262-b5bd-eea8a3f9e1d2",
   "metadata": {},
   "source": [
    "Below are a few examples of evaluating arithmetic expressions in Python :"
   ]
  },
  {
   "cell_type": "code",
   "execution_count": 3,
   "id": "e099ef8a-12ec-43a7-8c40-280f317c83f6",
   "metadata": {
    "tags": []
   },
   "outputs": [
    {
     "data": {
      "text/plain": [
       "17"
      ]
     },
     "execution_count": 3,
     "metadata": {},
     "output_type": "execute_result"
    }
   ],
   "source": [
    "#This a simple arithmetic expression to mutiply then add integers\n",
    "(3*4)+5"
   ]
  },
  {
   "cell_type": "code",
   "execution_count": 4,
   "id": "1284cf55-db1b-43a2-b5a8-c129b93ede95",
   "metadata": {
    "tags": []
   },
   "outputs": [
    {
     "data": {
      "text/plain": [
       "3.3333333333333335"
      ]
     },
     "execution_count": 4,
     "metadata": {},
     "output_type": "execute_result"
    }
   ],
   "source": [
    "#This will convert 200 minutes to hours by diving by 60\n",
    "200/60"
   ]
  },
  {
   "cell_type": "markdown",
   "id": "72644b7c-163b-46f8-b03e-dc3eff289e52",
   "metadata": {},
   "source": [
    "## Author :\n",
    "\n",
    "el amri yassine"
   ]
  },
  {
   "cell_type": "code",
   "execution_count": null,
   "id": "0a8e7a9b-243b-49a0-964e-e052ee9df098",
   "metadata": {},
   "outputs": [],
   "source": []
  }
 ],
 "metadata": {
  "kernelspec": {
   "display_name": "Python",
   "language": "python",
   "name": "conda-env-python-py"
  },
  "language_info": {
   "codemirror_mode": {
    "name": "ipython",
    "version": 3
   },
   "file_extension": ".py",
   "mimetype": "text/x-python",
   "name": "python",
   "nbconvert_exporter": "python",
   "pygments_lexer": "ipython3",
   "version": "3.7.12"
  }
 },
 "nbformat": 4,
 "nbformat_minor": 5
}
